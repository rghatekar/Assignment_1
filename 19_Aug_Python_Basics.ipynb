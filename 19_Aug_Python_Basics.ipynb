{
 "cells": [
  {
   "cell_type": "markdown",
   "id": "9e527b49-eb44-493b-bd25-89f01b804842",
   "metadata": {},
   "source": [
    "\"\"\"Create a program that calculates the area of a rectangle. Take the length and\n",
    "width as inputs from the user and store them in variables. Calculate and\n",
    "display the area.\"\"\""
   ]
  },
  {
   "cell_type": "code",
   "execution_count": 1,
   "id": "4af1124d-bb21-4172-9700-499776676815",
   "metadata": {},
   "outputs": [
    {
     "name": "stdin",
     "output_type": "stream",
     "text": [
      "Enter Length =  10\n",
      "Enter Width =  20\n"
     ]
    },
    {
     "name": "stdout",
     "output_type": "stream",
     "text": [
      "Area of Rectangle is 200\n"
     ]
    }
   ],
   "source": [
    "Length = int(input(\"Enter Length = \"))\n",
    "Width = int(input(\"Enter Width = \"))\n",
    "Area = Length * Width\n",
    "print(\"Area of Rectangle is\",Area)"
   ]
  },
  {
   "cell_type": "markdown",
   "id": "e0c5579f-3008-4404-a1f5-96b4a8e5b99e",
   "metadata": {},
   "source": [
    "3. Write a Python program that converts temperatures from Celsius to\n",
    "Fahrenheit. Take the temperature in Celsius as input, store it in a variable,\n",
    "convert it to Fahrenheit, and display the result."
   ]
  },
  {
   "cell_type": "code",
   "execution_count": 2,
   "id": "fda7880a-8b1e-4684-92ca-7bd5106dfc10",
   "metadata": {},
   "outputs": [
    {
     "name": "stdin",
     "output_type": "stream",
     "text": [
      "Enter Temperature In Celsius =  27\n"
     ]
    },
    {
     "name": "stdout",
     "output_type": "stream",
     "text": [
      "Temperature In Fahrenheit is  80.6\n"
     ]
    }
   ],
   "source": [
    "temp = int(input(\"Enter Temperature In Celsius = \"))\n",
    "tempInFa = temp * 9/5 + 32\n",
    "print(\"Temperature In Fahrenheit is \", tempInFa)"
   ]
  },
  {
   "cell_type": "markdown",
   "id": "62affc9e-98a8-4190-a986-0563d3eb2fef",
   "metadata": {},
   "source": [
    "TOPIC: String Based Questions"
   ]
  },
  {
   "cell_type": "markdown",
   "id": "7743239d-b3da-4be5-b2ac-9a3aad815447",
   "metadata": {},
   "source": [
    "1. Write a Python program that takes a string as input and prints the length of\n",
    "the string."
   ]
  },
  {
   "cell_type": "code",
   "execution_count": 1,
   "id": "87ad6e2f-18e5-4e8e-9539-e683d03dc787",
   "metadata": {},
   "outputs": [
    {
     "data": {
      "text/plain": [
       "14"
      ]
     },
     "execution_count": 1,
     "metadata": {},
     "output_type": "execute_result"
    }
   ],
   "source": [
    "A = \"Rohan Ghatekar\"\n",
    "len(A)"
   ]
  },
  {
   "cell_type": "markdown",
   "id": "501d81e1-7a88-425a-a0ea-a9af36a57d34",
   "metadata": {},
   "source": [
    "2. Create a program that takes a sentence from the user and counts the number\n",
    "of vowels (a, e, i, o, u) in the string."
   ]
  },
  {
   "cell_type": "code",
   "execution_count": 5,
   "id": "d60d9518-4f2c-4752-be02-f91117a895d2",
   "metadata": {},
   "outputs": [
    {
     "name": "stdout",
     "output_type": "stream",
     "text": [
      "5\n"
     ]
    }
   ],
   "source": [
    "A = \"My Name Is Rohan\"\n",
    "vowels = \"aeiouAEIOU\"\n",
    "count = sum(A.count(vowel) for vowel in vowels)\n",
    "print(count)"
   ]
  },
  {
   "cell_type": "markdown",
   "id": "3e921340-b97b-463b-a378-865c4b5d1edf",
   "metadata": {},
   "source": [
    "3. Given a string, reverse the order of characters using string slicing and print\n",
    "the reversed string."
   ]
  },
  {
   "cell_type": "code",
   "execution_count": 15,
   "id": "098e1cd6-dce4-49e3-892d-c5155e5cc63c",
   "metadata": {},
   "outputs": [
    {
     "data": {
      "text/plain": [
       "'gnirts'"
      ]
     },
     "execution_count": 15,
     "metadata": {},
     "output_type": "execute_result"
    }
   ],
   "source": [
    "B = \"string\"\n",
    "B[6:-7:-1]"
   ]
  },
  {
   "cell_type": "markdown",
   "id": "3c20a4b3-81e4-4a98-98d4-bb473fbbc1be",
   "metadata": {},
   "source": [
    "4. Write a program that takes a string as input and checks if it is a palindrome\n",
    "(reads the same forwards and backwards)."
   ]
  },
  {
   "cell_type": "code",
   "execution_count": 24,
   "id": "968ad990-5195-406d-a44a-c70cab240413",
   "metadata": {},
   "outputs": [
    {
     "name": "stdin",
     "output_type": "stream",
     "text": [
      "Enter a string =  madam\n"
     ]
    },
    {
     "name": "stdout",
     "output_type": "stream",
     "text": [
      "string is palindrome\n"
     ]
    }
   ],
   "source": [
    "string = input((\"Enter a string = \"))\n",
    "if(string==string[::-1]):\n",
    "  print(\"string is palindrome\")\n",
    "else:\n",
    "  print(\"string is not palindrome\")"
   ]
  },
  {
   "cell_type": "markdown",
   "id": "a969e3ef-c752-4992-a088-b1c754a2b911",
   "metadata": {},
   "source": [
    "I learnt new thing that while using if else condition the output line means print line should be with a place and paralel to each other as above code ."
   ]
  },
  {
   "cell_type": "markdown",
   "id": "739dc11f-740c-489b-98aa-e300b9c8bdf8",
   "metadata": {},
   "source": [
    "5. Create a program that takes a string as input and removes all the spaces from\n",
    "it. Print the modified string without spaces."
   ]
  },
  {
   "cell_type": "code",
   "execution_count": 31,
   "id": "7c2883b0-f4da-4e1a-b204-b3846e89c7e7",
   "metadata": {},
   "outputs": [
    {
     "name": "stdin",
     "output_type": "stream",
     "text": [
      "Enter a string with space =  R o h a n\n"
     ]
    },
    {
     "name": "stdout",
     "output_type": "stream",
     "text": [
      "Rohan\n"
     ]
    }
   ],
   "source": [
    "D = str(input(\"Enter a string with space = \"))\n",
    "print(D[::2])"
   ]
  },
  {
   "cell_type": "code",
   "execution_count": null,
   "id": "f7751da8-0466-4cbb-9c11-928fb42aa1f5",
   "metadata": {},
   "outputs": [],
   "source": []
  }
 ],
 "metadata": {
  "kernelspec": {
   "display_name": "Python 3 (ipykernel)",
   "language": "python",
   "name": "python3"
  },
  "language_info": {
   "codemirror_mode": {
    "name": "ipython",
    "version": 3
   },
   "file_extension": ".py",
   "mimetype": "text/x-python",
   "name": "python",
   "nbconvert_exporter": "python",
   "pygments_lexer": "ipython3",
   "version": "3.10.8"
  }
 },
 "nbformat": 4,
 "nbformat_minor": 5
}
